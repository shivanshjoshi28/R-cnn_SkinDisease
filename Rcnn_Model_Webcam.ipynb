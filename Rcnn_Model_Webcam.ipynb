{
 "cells": [
  {
   "cell_type": "code",
   "execution_count": 1,
   "metadata": {},
   "outputs": [],
   "source": [
    "import keras\n",
    "from keras.models import load_model\n",
    "model_final =load_model('new_rcnn_vgg16_1.h5')"
   ]
  },
  {
   "cell_type": "code",
   "execution_count": null,
   "metadata": {},
   "outputs": [],
   "source": [
    "import numpy as np\n",
    "import cv2\n",
    "import urllib.request\n",
    "cv2.setUseOptimized(True);\n",
    "ss = cv2.ximgproc.segmentation.createSelectiveSearchSegmentation()\n",
    "# for webcams, request stream only once.\n",
    "path=\"http://192.168.29.98:8080/shot.jpg\"\n",
    "while(True):\n",
    "    imgResp = urllib.request.urlopen(path)\n",
    "    imgNp = np.array(bytearray(imgResp.read()), dtype=np.uint8)\n",
    "    imgOriginal = cv2.imdecode(imgNp, -1)\n",
    "    img = np.asarray(imgOriginal)\n",
    "    img=cv2.resize(img,(224,224))\n",
    "    img = cv2.resize(img, (224,224), interpolation = cv2.INTER_AREA)\n",
    "    ss.setBaseImage(img)\n",
    "    ss.switchToSelectiveSearchFast()\n",
    "    ssresults = ss.process()\n",
    "    imout = img.copy()\n",
    "    for e,result in enumerate(ssresults):\n",
    "        if e < 100:\n",
    "            x,y,w,h = result\n",
    "            timage = imout[y:y+h,x:x+w]\n",
    "            resized = cv2.resize(timage, (224,224), interpolation = cv2.INTER_AREA)\n",
    "            img = np.expand_dims(resized, axis=0)\n",
    "            out= model_final.predict(img)\n",
    "            if out[0][0] > 0.80:\n",
    "                cv2.rectangle(imout, (x, y), (x+w, y+h), (0, 0, 255), 1, cv2.LINE_AA)\n",
    "    cv2.imshow(\"frame\",imout)\n",
    "    if cv2.waitKey(1) & 0xFF == ord('q'):\n",
    "        break\n",
    "\n",
    "# Done. release the capture\n",
    "cap.release()\n",
    "cv2.destroyAllWindows()"
   ]
  },
  {
   "cell_type": "code",
   "execution_count": null,
   "metadata": {},
   "outputs": [],
   "source": []
  }
 ],
 "metadata": {
  "kernelspec": {
   "display_name": "PyCharm (Alphabet Recognisation _Using_HandGestures)",
   "language": "python",
   "name": "pycharm-d299a7e7"
  },
  "language_info": {
   "codemirror_mode": {
    "name": "ipython",
    "version": 3
   },
   "file_extension": ".py",
   "mimetype": "text/x-python",
   "name": "python",
   "nbconvert_exporter": "python",
   "pygments_lexer": "ipython3",
   "version": "3.8.5"
  }
 },
 "nbformat": 4,
 "nbformat_minor": 4
}
